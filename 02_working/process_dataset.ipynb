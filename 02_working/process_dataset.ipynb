{
 "cells": [
  {
   "cell_type": "code",
   "execution_count": 10,
   "metadata": {},
   "outputs": [],
   "source": [
    "import pandas as pd"
   ]
  },
  {
   "cell_type": "markdown",
   "metadata": {},
   "source": [
    "# Load the Dataset"
   ]
  },
  {
   "cell_type": "code",
   "execution_count": 11,
   "metadata": {},
   "outputs": [],
   "source": [
    "data = pd.read_csv('behavioral_risk_factor_dataset.csv')"
   ]
  },
  {
   "cell_type": "code",
   "execution_count": 22,
   "metadata": {},
   "outputs": [],
   "source": [
    "# Convert question to a category and rename categories for visibility\n",
    "data[\"Question\"] = data[\"Question\"].astype(\"category\")\n",
    "data['Question'].cat.categories = [\"% Overweight Adults\",\n",
    "                                   \"% Obese Adults\",\n",
    "                                   \"% Mod Aerobic\", \n",
    "                                   \"% Mod Aerobic & Strength\", \n",
    "                                   \"% Vigerous Aerobic\", \n",
    "                                   \"% Strength\", \n",
    "                                   \"% No Phys. Activity\", \n",
    "                                   \"% < 1 Fruit / Day\", \n",
    "                                   \"% < 1 Veg / Day\"]"
   ]
  },
  {
   "cell_type": "code",
   "execution_count": null,
   "metadata": {},
   "outputs": [],
   "source": []
  }
 ],
 "metadata": {
  "kernelspec": {
   "display_name": "Python 3",
   "language": "python",
   "name": "python3"
  },
  "language_info": {
   "codemirror_mode": {
    "name": "ipython",
    "version": 3
   },
   "file_extension": ".py",
   "mimetype": "text/x-python",
   "name": "python",
   "nbconvert_exporter": "python",
   "pygments_lexer": "ipython3",
   "version": "3.6.2"
  }
 },
 "nbformat": 4,
 "nbformat_minor": 2
}
