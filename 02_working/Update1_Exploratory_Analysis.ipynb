{
 "cells": [
  {
   "cell_type": "markdown",
   "metadata": {},
   "source": [
    "### **Load the Required Libraries**"
   ]
  },
  {
   "cell_type": "code",
   "execution_count": null,
   "metadata": {
    "collapsed": true
   },
   "outputs": [],
   "source": [
    "import pandas as pd\n",
    "import statistics as stat\n",
    "import matplotlib.pyplot as plt\n",
    "import matplotlib.pylab as lab"
   ]
  },
  {
   "cell_type": "markdown",
   "metadata": {},
   "source": [
    "### **Load the DataSet** "
   ]
  },
  {
   "cell_type": "code",
   "execution_count": null,
   "metadata": {
    "collapsed": true
   },
   "outputs": [],
   "source": [
    "data = pd.read_csv('behavioral_risk_factor_dataset.csv')"
   ]
  },
  {
   "cell_type": "markdown",
   "metadata": {},
   "source": [
    "### **Convert the Question feature to Human Readable Format**\n",
    "### **Remove the Unnecessary dimensions**"
   ]
  },
  {
   "cell_type": "code",
   "execution_count": null,
   "metadata": {
    "collapsed": true
   },
   "outputs": [],
   "source": [
    "# Convert question to a category and rename categories for visibility\n",
    "data[\"Question\"] = data[\"Question\"].astype(\"category\")\n",
    "data['Question'].cat.categories = [\"% Overweight Adults\",\n",
    "                                   \"% Obese Adults\",\n",
    "                                   \"% Mod Aerobic\", \n",
    "                                   \"% Mod Aerobic & Strength\", \n",
    "                                   \"% Vigerous Aerobic\", \n",
    "                                   \"% Strength\", \n",
    "                                   \"% No Phys. Activity\", \n",
    "                                   \"% < 1 Fruit / Day\", \n",
    "                                   \"% < 1 Veg / Day\"]\n",
    "\n",
    "# Drop, unnecessary columns to make table human-readable\n",
    "cols_to_drop = ['Datasource', 'Class', 'Topic', 'Data_Value_Unit', \n",
    "                'Data_Value_Type', 'Data_Value_Alt', 'Data_Value_Footnote_Symbol', \n",
    "                'Data_Value_Footnote', 'Total', 'Age(years)', 'Education',\n",
    "                'Gender', 'Income', 'Race/Ethnicity', 'ClassID', \n",
    "                'TopicID', 'QuestionID', 'DataValueTypeID', 'LocationID']\n",
    "data.drop(cols_to_drop, axis = 1, inplace = True)"
   ]
  },
  {
   "cell_type": "markdown",
   "metadata": {},
   "source": [
    "### **Preview of the Dataset**"
   ]
  },
  {
   "cell_type": "code",
   "execution_count": null,
   "metadata": {},
   "outputs": [],
   "source": [
    "data.head(n=5)"
   ]
  },
  {
   "cell_type": "markdown",
   "metadata": {},
   "source": [
    "### ** Obtaining the records containing Data_Values regarding % of Obese Adults**"
   ]
  },
  {
   "cell_type": "code",
   "execution_count": null,
   "metadata": {
    "collapsed": true
   },
   "outputs": [],
   "source": [
    "Obese_adults_data = data.loc[data['Question'] == '% Obese Adults']\n",
    "State_wise_Obese_adults_data = Obese_adults_data.loc[Obese_adults_data['LocationDesc'] != 'National']\n",
    "Total_State_wise_Obese_Adults = State_wise_Obese_adults_data.loc[State_wise_Obese_adults_data['StratificationCategory1'] == 'Total']"
   ]
  },
  {
   "cell_type": "markdown",
   "metadata": {},
   "source": [
    "### ** Obtaining the records containing Data_Values regarding % of Fruit Consumption < 1 per Day**"
   ]
  },
  {
   "cell_type": "code",
   "execution_count": null,
   "metadata": {
    "collapsed": true
   },
   "outputs": [],
   "source": [
    "Fruit_data = data.loc[data['Question'] == '% < 1 Fruit / Day']\n",
    "State_wise_Fruit_data = Fruit_data.loc[Fruit_data['LocationDesc'] != 'National']\n",
    "Total_State_wise_Fruit_data = State_wise_Fruit_data.loc[State_wise_Fruit_data['StratificationCategory1'] == 'Total']"
   ]
  },
  {
   "cell_type": "markdown",
   "metadata": {},
   "source": [
    "### ** Obtaining the records containing Data_Values regarding % of people involved in Vigerous Aerobic**"
   ]
  },
  {
   "cell_type": "code",
   "execution_count": null,
   "metadata": {
    "collapsed": true
   },
   "outputs": [],
   "source": [
    "Vigerous_Aerobic_data = data.loc[data['Question'] == '% Vigerous Aerobic']\n",
    "state_wise_Vigerous = Vigerous_Aerobic_data.loc[Vigerous_Aerobic_data['LocationDesc'] != 'National']\n",
    "Total_State_wise_Vigerous = state_wise_Vigerous.loc[state_wise_Vigerous['StratificationCategory1'] == 'Total']"
   ]
  },
  {
   "cell_type": "markdown",
   "metadata": {},
   "source": [
    "### **Finding the average % of Obese Adults per State**"
   ]
  },
  {
   "cell_type": "code",
   "execution_count": null,
   "metadata": {
    "collapsed": true
   },
   "outputs": [],
   "source": [
    "Obese_adults_dictionary = {}\n",
    "states_list = set(Total_State_wise_Obese_Adults['LocationAbbr'].tolist())\n",
    "for each in states_list:\n",
    "    Obese_adults_dictionary[each] = []\n",
    "    \n",
    "for index, row in Total_State_wise_Obese_Adults.iterrows():\n",
    "    Obese_adults_dictionary[row['LocationAbbr']].append(row['Data_Value'])\n",
    "    \n",
    "avg_obese_adults = {}\n",
    "for each in Obese_adults_dictionary.keys():\n",
    "    avg_obese_adults[each] = stat.mean(Obese_adults_dictionary[each])"
   ]
  },
  {
   "cell_type": "markdown",
   "metadata": {},
   "source": [
    "### **Finding the average % of People consuming less than 1 fruit per day**"
   ]
  },
  {
   "cell_type": "code",
   "execution_count": null,
   "metadata": {
    "collapsed": true
   },
   "outputs": [],
   "source": [
    "Fruits_consumption_dict = {}\n",
    "for each in states_list:\n",
    "    Fruits_consumption_dict[each] = []\n",
    "\n",
    "for index, row in Total_State_wise_Fruit_data.iterrows():\n",
    "    Fruits_consumption_dict[row['LocationAbbr']].append(row['Data_Value'])\n",
    "    \n",
    "for each in Fruits_consumption_dict.keys():\n",
    "    if not Fruits_consumption_dict[each]:\n",
    "        Fruits_consumption_dict[each].append(0)\n",
    " \n",
    "avg_fruit_consumption = {}  \n",
    "for each in Fruits_consumption_dict.keys():\n",
    "    avg_fruit_consumption[each] = stat.mean(Fruits_consumption_dict[each])"
   ]
  },
  {
   "cell_type": "markdown",
   "metadata": {},
   "source": [
    "### **Finding the average % of People performing Vigerous Aerobic Activity**"
   ]
  },
  {
   "cell_type": "code",
   "execution_count": null,
   "metadata": {
    "collapsed": true
   },
   "outputs": [],
   "source": [
    "Vigerous_Aerobic_dict = {}\n",
    "for each in states_list:\n",
    "    Vigerous_Aerobic_dict[each] = []\n",
    "    \n",
    "for index, row in Total_State_wise_Vigerous.iterrows():\n",
    "    Vigerous_Aerobic_dict[row['LocationAbbr']].append(row['Data_Value'])\n",
    "    \n",
    "for each in Vigerous_Aerobic_dict.keys():\n",
    "    if not Vigerous_Aerobic_dict[each]:\n",
    "        Vigerous_Aerobic_dict[each].append(0)\n",
    "        \n",
    "avg_Vigerous_activity = {}\n",
    "for each in Vigerous_Aerobic_dict.keys():\n",
    "    avg_Vigerous_activity[each] = stat.mean(Vigerous_Aerobic_dict[each])"
   ]
  },
  {
   "cell_type": "markdown",
   "metadata": {},
   "source": [
    "### **Plotting the Values** \n",
    "### **X-Coordinates = Avg Obesity**\n",
    "### **Y-Coordinates = Avg of people consuming less than 1 Fruit per Day**"
   ]
  },
  {
   "cell_type": "code",
   "execution_count": null,
   "metadata": {
    "collapsed": true
   },
   "outputs": [],
   "source": [
    "Fruits_Obesity_relation = []\n",
    "for each in avg_obese_adults.keys():\n",
    "    if avg_obese_adults[each] == 0 or avg_fruit_consumption[each] == 0:\n",
    "        continue\n",
    "    else:\n",
    "        Fruits_Obesity_relation.append((avg_obese_adults[each], avg_fruit_consumption[each]))"
   ]
  },
  {
   "cell_type": "code",
   "execution_count": null,
   "metadata": {},
   "outputs": [],
   "source": [
    "for each in Fruits_Obesity_relation:\n",
    "    plt.plot([each[0]], [each[1]], 'g^')\n",
    "plt.xlabel('Avg Obesity')\n",
    "plt.ylabel('Avg of people consuming less than 1 Fruit per Day ')\n",
    "plt.show()"
   ]
  },
  {
   "cell_type": "markdown",
   "metadata": {},
   "source": [
    "### **X-Coordinates = Avg Obesity**\n",
    "### **Y-Coordinates = Avg of % of people performing Vigerous Aerobic Activity**"
   ]
  },
  {
   "cell_type": "code",
   "execution_count": null,
   "metadata": {
    "collapsed": true
   },
   "outputs": [],
   "source": [
    "VigerousAerboic_Obesity_relation = []\n",
    "for each in avg_Vigerous_activity.keys():\n",
    "    if avg_Vigerous_activity[each] == 0 or avg_Vigerous_activity[each] == 0:\n",
    "        continue\n",
    "    else:\n",
    "        VigerousAerboic_Obesity_relation.append((avg_obese_adults[each], avg_Vigerous_activity[each]))"
   ]
  },
  {
   "cell_type": "code",
   "execution_count": null,
   "metadata": {},
   "outputs": [],
   "source": [
    "for each in VigerousAerboic_Obesity_relation:\n",
    "    plt.plot([each[0]], [each[1]], 'bs')\n",
    "plt.xlabel('Avg Obesity')\n",
    "plt.ylabel('Avg of people performing Vigerous Aerobic Activity')\n",
    "plt.show()"
   ]
  }
 ],
 "metadata": {
  "kernelspec": {
   "display_name": "Python 3",
   "language": "python",
   "name": "python3"
  },
  "language_info": {
   "codemirror_mode": {
    "name": "ipython",
    "version": 3
   },
   "file_extension": ".py",
   "mimetype": "text/x-python",
   "name": "python",
   "nbconvert_exporter": "python",
   "pygments_lexer": "ipython3",
   "version": "3.6.1"
  }
 },
 "nbformat": 4,
 "nbformat_minor": 2
}
