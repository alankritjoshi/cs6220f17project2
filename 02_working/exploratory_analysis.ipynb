{
 "cells": [
  {
   "cell_type": "markdown",
   "metadata": {},
   "source": [
    "### **Load the Required Libraries**"
   ]
  },
  {
   "cell_type": "code",
   "execution_count": 1,
   "metadata": {},
   "outputs": [],
   "source": [
    "import pandas as pd\n",
    "import statistics as stat\n",
    "import matplotlib.pyplot as plt\n",
    "import matplotlib.pylab as lab\n",
    "import plotly.plotly as py\n",
    "import numpy as np"
   ]
  },
  {
   "cell_type": "markdown",
   "metadata": {},
   "source": [
    "### **Load the DataSet** "
   ]
  },
  {
   "cell_type": "code",
   "execution_count": 2,
   "metadata": {},
   "outputs": [],
   "source": [
    "data = pd.read_csv('behavioral_risk_factor_dataset.csv')"
   ]
  },
  {
   "cell_type": "markdown",
   "metadata": {},
   "source": [
    "### **Convert the Question feature to Human Readable Format**\n",
    "### **Remove the Unnecessary dimensions**"
   ]
  },
  {
   "cell_type": "code",
   "execution_count": 3,
   "metadata": {},
   "outputs": [],
   "source": [
    "# Convert question to a category and rename categories for visibility\n",
    "data[\"Question\"] = data[\"Question\"].astype(\"category\")\n",
    "data['Question'].cat.categories = [\"% Overweight Adults\",\n",
    "                                   \"% Obese Adults\",\n",
    "                                   \"% Mod Aerobic\", \n",
    "                                   \"% Mod Aerobic & Strength\", \n",
    "                                   \"% Vigerous Aerobic\", \n",
    "                                   \"% Strength\", \n",
    "                                   \"% No Phys. Activity\", \n",
    "                                   \"% < 1 Fruit / Day\", \n",
    "                                   \"% < 1 Veg / Day\"]\n",
    "\n",
    "# Drop, unnecessary columns to make table human-readable\n",
    "cols_to_drop = ['Datasource', 'Class', 'Topic', 'Data_Value_Unit', \n",
    "                'Data_Value_Type', 'Data_Value_Alt', 'Data_Value_Footnote_Symbol', \n",
    "                'Data_Value_Footnote', 'Total', 'Age(years)', 'Education',\n",
    "                'Gender', 'Income', 'Race/Ethnicity', 'ClassID', \n",
    "                'TopicID', 'QuestionID', 'DataValueTypeID', 'LocationID']\n",
    "data.drop(cols_to_drop, axis = 1, inplace = True)"
   ]
  },
  {
   "cell_type": "markdown",
   "metadata": {},
   "source": [
    "### **Preview of the Dataset**"
   ]
  },
  {
   "cell_type": "code",
   "execution_count": 4,
   "metadata": {},
   "outputs": [
    {
     "data": {
      "text/plain": [
       "{'Age (years)', 'Education', 'Gender', 'Income', 'Race/Ethnicity', 'Total'}"
      ]
     },
     "execution_count": 4,
     "metadata": {},
     "output_type": "execute_result"
    }
   ],
   "source": [
    "data.head(n=5)\n",
    "set(data['StratificationCategory1'].tolist())"
   ]
  },
  {
   "cell_type": "markdown",
   "metadata": {},
   "source": [
    "## Question1 : How does the % Obese Adults vary with the criteria such as Fruit consumption, Vigerous Aerobic Activity and No Physical Activity."
   ]
  },
  {
   "cell_type": "markdown",
   "metadata": {},
   "source": [
    "### ** Obtaining the records containing Data_Values regarding % of Obese Adults**"
   ]
  },
  {
   "cell_type": "code",
   "execution_count": 5,
   "metadata": {},
   "outputs": [],
   "source": [
    "Obese_adults_data = data.loc[data['Question'] == '% Obese Adults']\n",
    "State_wise_Obese_adults_data = Obese_adults_data.loc[Obese_adults_data['LocationDesc'] != 'National']\n",
    "Total_State_wise_Obese_Adults = State_wise_Obese_adults_data.loc[State_wise_Obese_adults_data['StratificationCategory1'] == 'Total']"
   ]
  },
  {
   "cell_type": "markdown",
   "metadata": {},
   "source": [
    "### ** Obtaining the records containing Data_Values regarding % of Fruit Consumption < 1 per Day**"
   ]
  },
  {
   "cell_type": "code",
   "execution_count": 6,
   "metadata": {},
   "outputs": [],
   "source": [
    "Fruit_data = data.loc[data['Question'] == '% < 1 Fruit / Day']\n",
    "State_wise_Fruit_data = Fruit_data.loc[Fruit_data['LocationDesc'] != 'National']\n",
    "Total_State_wise_Fruit_data = State_wise_Fruit_data.loc[State_wise_Fruit_data['StratificationCategory1'] == 'Total']"
   ]
  },
  {
   "cell_type": "markdown",
   "metadata": {},
   "source": [
    "### ** Obtaining the records containing Data_Values regarding % of people involved in Vigerous Aerobic**"
   ]
  },
  {
   "cell_type": "code",
   "execution_count": 7,
   "metadata": {},
   "outputs": [],
   "source": [
    "Vigerous_Aerobic_data = data.loc[data['Question'] == '% Vigerous Aerobic']\n",
    "state_wise_Vigerous = Vigerous_Aerobic_data.loc[Vigerous_Aerobic_data['LocationDesc'] != 'National']\n",
    "Total_State_wise_Vigerous = state_wise_Vigerous.loc[state_wise_Vigerous['StratificationCategory1'] == 'Total']"
   ]
  },
  {
   "cell_type": "markdown",
   "metadata": {},
   "source": [
    "### **Obtaining the records containing Data_Values regarding % of people performing no Physical Activity**"
   ]
  },
  {
   "cell_type": "code",
   "execution_count": 8,
   "metadata": {},
   "outputs": [],
   "source": [
    "NoPhysical_Activity_Data =  data.loc[data['Question'] == '% No Phys. Activity']\n",
    "state_wise_NoPhysical = NoPhysical_Activity_Data.loc[NoPhysical_Activity_Data['LocationDesc'] != 'National']\n",
    "Total_state_wise_NoPhysical = state_wise_NoPhysical.loc[state_wise_NoPhysical['StratificationCategory1'] == 'Total']"
   ]
  },
  {
   "cell_type": "markdown",
   "metadata": {},
   "source": [
    "### **Finding the average % of Obese Adults per State**"
   ]
  },
  {
   "cell_type": "code",
   "execution_count": 9,
   "metadata": {},
   "outputs": [],
   "source": [
    "Obese_adults_dictionary = {}\n",
    "states_list = set(Total_State_wise_Obese_Adults['LocationAbbr'].tolist())\n",
    "for each in states_list:\n",
    "    Obese_adults_dictionary[each] = []\n",
    "    \n",
    "for index, row in Total_State_wise_Obese_Adults.iterrows():\n",
    "    Obese_adults_dictionary[row['LocationAbbr']].append(row['Data_Value'])\n",
    "    \n",
    "avg_obese_adults = {}\n",
    "for each in Obese_adults_dictionary.keys():\n",
    "    avg_obese_adults[each] = stat.mean(Obese_adults_dictionary[each])"
   ]
  },
  {
   "cell_type": "markdown",
   "metadata": {},
   "source": [
    "### **Finding the average % of People consuming less than 1 fruit per day**"
   ]
  },
  {
   "cell_type": "code",
   "execution_count": 10,
   "metadata": {},
   "outputs": [],
   "source": [
    "Fruits_consumption_dict = {}\n",
    "for each in states_list:\n",
    "    Fruits_consumption_dict[each] = []\n",
    "\n",
    "for index, row in Total_State_wise_Fruit_data.iterrows():\n",
    "    Fruits_consumption_dict[row['LocationAbbr']].append(row['Data_Value'])\n",
    "    \n",
    "for each in Fruits_consumption_dict.keys():\n",
    "    if not Fruits_consumption_dict[each]:\n",
    "        Fruits_consumption_dict[each].append(0)\n",
    " \n",
    "avg_fruit_consumption = {}  \n",
    "for each in Fruits_consumption_dict.keys():\n",
    "    avg_fruit_consumption[each] = stat.mean(Fruits_consumption_dict[each])"
   ]
  },
  {
   "cell_type": "markdown",
   "metadata": {},
   "source": [
    "### **Finding the average % of People performing Vigerous Aerobic Activity**"
   ]
  },
  {
   "cell_type": "code",
   "execution_count": 11,
   "metadata": {},
   "outputs": [],
   "source": [
    "Vigerous_Aerobic_dict = {}\n",
    "for each in states_list:\n",
    "    Vigerous_Aerobic_dict[each] = []\n",
    "    \n",
    "for index, row in Total_State_wise_Vigerous.iterrows():\n",
    "    Vigerous_Aerobic_dict[row['LocationAbbr']].append(row['Data_Value'])\n",
    "    \n",
    "for each in Vigerous_Aerobic_dict.keys():\n",
    "    if not Vigerous_Aerobic_dict[each]:\n",
    "        Vigerous_Aerobic_dict[each].append(0)\n",
    "        \n",
    "avg_Vigerous_activity = {}\n",
    "for each in Vigerous_Aerobic_dict.keys():\n",
    "    avg_Vigerous_activity[each] = stat.mean(Vigerous_Aerobic_dict[each])"
   ]
  },
  {
   "cell_type": "markdown",
   "metadata": {},
   "source": [
    "### **Finding the average % of people performing No Physical Activity**"
   ]
  },
  {
   "cell_type": "code",
   "execution_count": 12,
   "metadata": {},
   "outputs": [],
   "source": [
    "NoPhysical_dict = {}\n",
    "for each in states_list:\n",
    "    NoPhysical_dict[each] = []\n",
    "    \n",
    "for index, row in Total_state_wise_NoPhysical.iterrows():\n",
    "    NoPhysical_dict[row['LocationAbbr']].append(row['Data_Value'])\n",
    "    \n",
    "for each in NoPhysical_dict.keys():\n",
    "    if not NoPhysical_dict[each]:\n",
    "        NoPhysical_dict[each].append(0)\n",
    "        \n",
    "avg_NoPhysical = {}\n",
    "for each in NoPhysical_dict.keys():\n",
    "    avg_NoPhysical[each] = stat.mean(NoPhysical_dict[each])"
   ]
  },
  {
   "cell_type": "markdown",
   "metadata": {},
   "source": [
    "### **--> ScatterPlots <--** \n",
    "### **X-Coordinates = Avg Obesity**\n",
    "### **Y-Coordinates = Avg of people consuming less than 1 Fruit per Day**"
   ]
  },
  {
   "cell_type": "code",
   "execution_count": 36,
   "metadata": {},
   "outputs": [],
   "source": [
    "Fruits_Obesity_relation = []\n",
    "for each in avg_obese_adults.keys():\n",
    "    if avg_obese_adults[each] == 0 or avg_fruit_consumption[each] == 0:\n",
    "        continue\n",
    "    else:\n",
    "        Fruits_Obesity_relation.append((avg_obese_adults[each], avg_fruit_consumption[each]))"
   ]
  },
  {
   "cell_type": "code",
   "execution_count": 54,
   "metadata": {},
   "outputs": [
    {
     "data": {
      "image/png": "[encoded data removed]",
      "text/plain": [
       "<matplotlib.figure.Figure at 0x7f43270ad438>"
      ]
     },
     "metadata": {},
     "output_type": "display_data"
    }
   ],
   "source": [
    "for each in Fruits_Obesity_relation:\n",
    "    plt.plot([each[0]], [each[1]], 'g^')\n",
    "plt.xlabel('Avg Obesity')\n",
    "plt.ylabel('Avg of people consuming less than 1 Fruit per Day ')\n",
    "plt.show()"
   ]
  },
  {
   "cell_type": "markdown",
   "metadata": {},
   "source": [
    "### **X-Coordinates = Avg Obesity**\n",
    "### **Y-Coordinates = Avg of % of people performing Vigerous Aerobic Activity**"
   ]
  },
  {
   "cell_type": "code",
   "execution_count": 15,
   "metadata": {},
   "outputs": [],
   "source": [
    "VigerousAerboic_Obesity_relation = []\n",
    "for each in avg_Vigerous_activity.keys():\n",
    "    if avg_Vigerous_activity[each] == 0 or avg_Vigerous_activity[each] == 0:\n",
    "        continue\n",
    "    else:\n",
    "        VigerousAerboic_Obesity_relation.append((avg_obese_adults[each], avg_Vigerous_activity[each]))"
   ]
  },
  {
   "cell_type": "code",
   "execution_count": 16,
   "metadata": {},
   "outputs": [
    {
     "data": {
      "image/png": "[encoded data removed]",
      "text/plain": [
       "<matplotlib.figure.Figure at 0x7f432702b278>"
      ]
     },
     "metadata": {},
     "output_type": "display_data"
    }
   ],
   "source": [
    "fig, ax = plt.subplots()\n",
    "for each in VigerousAerboic_Obesity_relation:\n",
    "    plt.plot([each[0]], [each[1]], 'bs')\n",
    "plt.xlabel('Avg Obesity')\n",
    "plt.ylabel('Avg of people performing Vigerous Aerobic Activity')\n",
    "plt.show()"
   ]
  },
  {
   "cell_type": "markdown",
   "metadata": {},
   "source": [
    "### ** X-Coordinates = Avg Obesity**\n",
    "### ** Y-Coordinates = Avg of % of people performing no Physical Activity**"
   ]
  },
  {
   "cell_type": "code",
   "execution_count": 17,
   "metadata": {},
   "outputs": [],
   "source": [
    "NoPhysical_Obesity_relation = []\n",
    "for each in avg_NoPhysical.keys():\n",
    "    if avg_NoPhysical[each] == 0 or avg_NoPhysical[each] == 0:\n",
    "        continue\n",
    "    else:\n",
    "        NoPhysical_Obesity_relation.append((avg_obese_adults[each], avg_NoPhysical[each]))"
   ]
  },
  {
   "cell_type": "code",
   "execution_count": 57,
   "metadata": {},
   "outputs": [
    {
     "data": {
      "image/png": "[encoded data removed]",
      "text/plain": [
       "<matplotlib.figure.Figure at 0x7f432462bf28>"
      ]
     },
     "metadata": {},
     "output_type": "display_data"
    }
   ],
   "source": [
    "fig, ax = plt.subplots()\n",
    "for each in NoPhysical_Obesity_relation:\n",
    "    plt.plot([each[0]], [each[1]], 'ro')\n",
    "fig.set_size_inches(18.5, 10.5)\n",
    "plt.xlabel('Avg Obesity')\n",
    "plt.ylabel('Avg of people performing No Physical Activity')\n",
    "plt.grid(True)\n",
    "plt.savefig('images/exploration_no_phy_activity_obesity.pdf', \n",
    "            bbox_inches='tight')\n",
    "plt.show()\n",
    "fig.clear()"
   ]
  },
  {
   "cell_type": "markdown",
   "metadata": {},
   "source": [
    "## Question2"
   ]
  },
  {
   "cell_type": "markdown",
   "metadata": {},
   "source": [
    "### **Obtaining the records containing Data_Values for % Obese adults across the different age groups**"
   ]
  },
  {
   "cell_type": "code",
   "execution_count": 39,
   "metadata": {},
   "outputs": [],
   "source": [
    "Obese_adults_data = data.loc[data['Question'] == '% Obese Adults']\n",
    "State_wise_Obese_adults_data = Obese_adults_data.loc[Obese_adults_data['LocationDesc'] != 'National']\n",
    "Age_wise_Obesity = State_wise_Obese_adults_data.loc[State_wise_Obese_adults_data['StratificationCategory1'] == 'Age (years)']\n",
    "age_categories = set(Age_wise_Obesity['Stratification1'].tolist())"
   ]
  },
  {
   "cell_type": "markdown",
   "metadata": {},
   "source": [
    "### **Obtaining the records containing Data_Values for % Strength Training across the age groups**"
   ]
  },
  {
   "cell_type": "code",
   "execution_count": 40,
   "metadata": {},
   "outputs": [],
   "source": [
    "Strength_data = data.loc[data['Question'] == '% Strength']\n",
    "State_wise_Strength = Strength_data.loc[Strength_data['LocationDesc'] != 'National']\n",
    "Age_StrengthTraining = State_wise_Strength.loc[State_wise_Strength['StratificationCategory1'] == 'Age (years)']"
   ]
  },
  {
   "cell_type": "markdown",
   "metadata": {},
   "source": [
    "### **Obtaining records containing Data_Values for % of sample set consuming less than 1 vegetable per day**\n"
   ]
  },
  {
   "cell_type": "code",
   "execution_count": 41,
   "metadata": {},
   "outputs": [],
   "source": [
    "Vegetable_data = data.loc[data['Question'] == '% < 1 Veg / Day']\n",
    "State_wise_Veg = Vegetable_data.loc[Vegetable_data['LocationDesc'] != 'National']\n",
    "Age_Vegetable = State_wise_Veg.loc[State_wise_Veg['StratificationCategory1'] == 'Age (years)']"
   ]
  },
  {
   "cell_type": "markdown",
   "metadata": {},
   "source": [
    "### ** Finding the average % of obese adults across the given age groups**"
   ]
  },
  {
   "cell_type": "code",
   "execution_count": 42,
   "metadata": {},
   "outputs": [
    {
     "name": "stdout",
     "output_type": "stream",
     "text": [
      "{'55 - 64': 33.56114649681529, '18 - 24': 16.40828025477707, '25 - 34': 27.17452229299363, '65 or older': 26.754458598726114, '45 - 54': 33.853503184713375, '35 - 44': 32.45636942675159}\n"
     ]
    }
   ],
   "source": [
    "Obesity_Age_dict = {}\n",
    "for each in age_categories:\n",
    "    Obesity_Age_dict[each] = []\n",
    "    \n",
    "for index, row in Age_wise_Obesity.iterrows():\n",
    "    Obesity_Age_dict[row['Stratification1']].append(row['Data_Value'])\n",
    "    \n",
    "avg_obesity_age = {}\n",
    "for each in Obesity_Age_dict.keys():\n",
    "    avg_obesity_age[each] = stat.mean(Obesity_Age_dict[each])\n",
    "    \n",
    "\n",
    "print(avg_obesity_age)"
   ]
  },
  {
   "cell_type": "markdown",
   "metadata": {},
   "source": [
    "### **Finding the Average % of people performing Strength Training across different age groups**"
   ]
  },
  {
   "cell_type": "code",
   "execution_count": 43,
   "metadata": {},
   "outputs": [
    {
     "name": "stdout",
     "output_type": "stream",
     "text": [
      "{'55 - 64': 23.567096774193548, '18 - 24': 44.93032258064516, '25 - 34': 35.17548387096774, '65 or older': 21.865806451612904, '45 - 54': 26.03548387096774, '35 - 44': 29.56}\n"
     ]
    }
   ],
   "source": [
    "Strength_Age_Dict = {}\n",
    "for each in age_categories:\n",
    "    Strength_Age_Dict[each] = []\n",
    "    \n",
    "for index, row in Age_StrengthTraining.iterrows():\n",
    "    Strength_Age_Dict[row['Stratification1']].append(row['Data_Value'])\n",
    "    \n",
    "avg_strength_age = {}\n",
    "for each in Strength_Age_Dict.keys():\n",
    "    avg_strength_age[each] = stat.mean(Strength_Age_Dict[each])\n",
    "print(avg_strength_age)"
   ]
  },
  {
   "cell_type": "markdown",
   "metadata": {},
   "source": [
    "### ** Finding the Average % of people eating less than 1 vegetable per Day**"
   ]
  },
  {
   "cell_type": "code",
   "execution_count": 44,
   "metadata": {},
   "outputs": [
    {
     "name": "stdout",
     "output_type": "stream",
     "text": [
      "{'55 - 64': 21.021290322580644, '18 - 24': 30.83741935483871, '25 - 34': 22.733548387096775, '65 or older': 21.301290322580645, '45 - 54': 22.071612903225805, '35 - 44': 21.389032258064518}\n"
     ]
    }
   ],
   "source": [
    "Vegetable_Age_Dict = {}\n",
    "for each in age_categories:\n",
    "    Vegetable_Age_Dict[each] = []\n",
    "    \n",
    "for index, row in Age_Vegetable.iterrows():\n",
    "    Vegetable_Age_Dict[row['Stratification1']].append(row['Data_Value'])\n",
    "    \n",
    "avg_vegetable_age = {}\n",
    "for each in Vegetable_Age_Dict.keys():\n",
    "    avg_vegetable_age[each] = stat.mean(Vegetable_Age_Dict[each])\n",
    "print(avg_vegetable_age)"
   ]
  },
  {
   "cell_type": "markdown",
   "metadata": {},
   "source": [
    "### ** --> Bar Charts <--**"
   ]
  },
  {
   "cell_type": "markdown",
   "metadata": {},
   "source": [
    "### **Strength Training and Obesity Relation**"
   ]
  },
  {
   "cell_type": "code",
   "execution_count": 77,
   "metadata": {
    "scrolled": true
   },
   "outputs": [
    {
     "data": {
      "image/png": "[encoded data removed]",
      "text/plain": [
       "<matplotlib.figure.Figure at 0x7f4324e3d160>"
      ]
     },
     "metadata": {},
     "output_type": "display_data"
    }
   ],
   "source": [
    "# data to plot\n",
    "n_groups = 6\n",
    "strength_values = list(avg_strength_age.values())\n",
    "obesity_values = list(avg_obesity_age.values())\n",
    "# means_frank = (90, 55, 40, 65)\n",
    "# means_guido = (85, 62, 54, 20)\n",
    " \n",
    "# create plot\n",
    "fig, ax = plt.subplots()\n",
    "index = np.arange(n_groups)\n",
    "bar_width = 0.20\n",
    "opacity = 0.8\n",
    " \n",
    "rects1 = plt.bar(index, strength_values, bar_width,\n",
    "                 alpha=opacity,\n",
    "                 color='b',\n",
    "                 label='Strenth Training')\n",
    " \n",
    "rects2 = plt.bar(index + bar_width, obesity_values, bar_width,\n",
    "                 alpha=opacity,\n",
    "                 color='g',\n",
    "                 label='Obesity')\n",
    " \n",
    "fig.set_size_inches(18.5, 10.5)\n",
    "\n",
    "plt.xlabel('Age Groups')\n",
    "plt.ylabel('% of Obese people and % of people performing strength training')\n",
    "plt.title('Relation Between Strenth Training and Obesity in various Age Groups')\n",
    "plt.xticks(index + bar_width, list(avg_strength_age.keys()))\n",
    "plt.legend()\n",
    " \n",
    "# plt.tight_layout()\n",
    "plt.grid(True)\n",
    "plt.savefig('images/exploration_training_obesity.pdf', \n",
    "            bbox_inches='tight')\n",
    "plt.show()\n",
    "fig.clear()\n"
   ]
  },
  {
   "cell_type": "markdown",
   "metadata": {},
   "source": [
    "### ** Vegetable consumption and Obesity Relation**"
   ]
  },
  {
   "cell_type": "code",
   "execution_count": 70,
   "metadata": {},
   "outputs": [
    {
     "data": {
      "image/png": "[encoded data removed]",
      "text/plain": [
       "<matplotlib.figure.Figure at 0x7f4324da59e8>"
      ]
     },
     "metadata": {},
     "output_type": "display_data"
    }
   ],
   "source": [
    "# data to plot\n",
    "n_groups = 6\n",
    "vegetable_values = list(avg_vegetable_age.values())\n",
    "obesity_values = list(avg_obesity_age.values())\n",
    "# means_frank = (90, 55, 40, 65)\n",
    "# means_guido = (85, 62, 54, 20)\n",
    " \n",
    "# create plot\n",
    "fig, ax = plt.subplots()\n",
    "index = np.arange(n_groups)\n",
    "bar_width = 0.20\n",
    "opacity = 0.8\n",
    " \n",
    "rects1 = plt.bar(index, vegetable_values, bar_width,\n",
    "                 alpha=opacity,\n",
    "                 color='b',\n",
    "                 label='< 1 Veg Per Day')\n",
    " \n",
    "rects2 = plt.bar(index + bar_width, obesity_values, bar_width,\n",
    "                 alpha=opacity,\n",
    "                 color='g',\n",
    "                 label='Obesity')\n",
    " \n",
    "fig.set_size_inches(18.5, 10.5)\n",
    "\n",
    "plt.xlabel('Age Groups')\n",
    "plt.ylabel('% of Obese people and % of people consuming < 1 Veg per day')\n",
    "plt.title('Relation Between Vegetable Consumption and Obesity in various Age Groups')\n",
    "plt.xticks(index + bar_width, list(avg_vegetable_age.keys()))\n",
    "plt.legend()\n",
    " \n",
    "# plt.tight_layout()\n",
    "plt.grid(True)\n",
    "plt.savefig('images/exploration_veg_malnutrition_obesity.pdf', \n",
    "            bbox_inches='tight')\n",
    "plt.show()\n",
    "fig.clear()"
   ]
  },
  {
   "cell_type": "markdown",
   "metadata": {},
   "source": [
    "### ** Obtaining the Data_values for % of people consuming < 1 vegetable per day across education categories**"
   ]
  },
  {
   "cell_type": "code",
   "execution_count": 71,
   "metadata": {},
   "outputs": [],
   "source": [
    "veg_data = data.loc[data['Question'] == '% < 1 Veg / Day']\n",
    "State_wise_veg = veg_data.loc[veg_data['LocationDesc'] != 'National']\n",
    "education_veg = State_wise_veg.loc[State_wise_veg['StratificationCategory1'] == 'Education']\n",
    "education_categories = set(education_veg['Stratification1'].tolist())\n",
    "edu_categories = {'HS_grad', 'College', 'college_grad', 'HS_Dropout'}"
   ]
  },
  {
   "cell_type": "markdown",
   "metadata": {},
   "source": [
    "### ** Obtaining the Data_Values for % of people performing Vigerous Aerobic Activity across education categories**"
   ]
  },
  {
   "cell_type": "code",
   "execution_count": 72,
   "metadata": {},
   "outputs": [],
   "source": [
    "aerobic_data = data.loc[data['Question'] == '% Vigerous Aerobic']\n",
    "State_wise_aerobic = aerobic_data.loc[aerobic_data['LocationDesc'] != 'National']\n",
    "education_aerobic = State_wise_aerobic.loc[State_wise_aerobic['StratificationCategory1'] == 'Education']"
   ]
  },
  {
   "cell_type": "markdown",
   "metadata": {},
   "source": [
    "### ** Finding the average % of people eating < 1 vegetable per day (Education)**"
   ]
  },
  {
   "cell_type": "code",
   "execution_count": 73,
   "metadata": {},
   "outputs": [
    {
     "name": "stdout",
     "output_type": "stream",
     "text": [
      "{'College graduate': 14.298064516129033, 'Some college or technical school': 21.24967741935484, 'Less than high school': 33.31677419354839, 'High school graduate': 27.95741935483871}\n"
     ]
    }
   ],
   "source": [
    "Veg_Education_Dict = {}\n",
    "for each in education_categories:\n",
    "    Veg_Education_Dict[each] = []\n",
    "    \n",
    "for index, row in education_veg.iterrows():\n",
    "    Veg_Education_Dict[row['Stratification1']].append(row['Data_Value'])\n",
    "    \n",
    "avg_veg_education = {}\n",
    "for each in Veg_Education_Dict.keys():\n",
    "    avg_veg_education[each] = stat.mean(Veg_Education_Dict[each])\n",
    "print(avg_veg_education)"
   ]
  },
  {
   "cell_type": "markdown",
   "metadata": {},
   "source": [
    "### ** Finding Average % of people performing vigerous aerobic activity (Education)**"
   ]
  },
  {
   "cell_type": "code",
   "execution_count": 74,
   "metadata": {},
   "outputs": [
    {
     "name": "stdout",
     "output_type": "stream",
     "text": [
      "{'College graduate': 35.656129032258065, 'Some college or technical school': 32.17548387096774, 'Less than high school': 25.97806451612903, 'High school graduate': 30.323870967741936}\n"
     ]
    }
   ],
   "source": [
    "Aerobic_Education_Dict = {}\n",
    "for each in education_categories:\n",
    "    Aerobic_Education_Dict[each] = []\n",
    "    \n",
    "for index, row in education_aerobic.iterrows():\n",
    "    Aerobic_Education_Dict[row['Stratification1']].append(row['Data_Value'])\n",
    "    \n",
    "avg_aerobic_education = {}\n",
    "for each in Aerobic_Education_Dict.keys():\n",
    "    avg_aerobic_education[each] = stat.mean(Aerobic_Education_Dict[each])\n",
    "print(avg_aerobic_education)"
   ]
  },
  {
   "cell_type": "markdown",
   "metadata": {},
   "source": [
    "### **Vegetable Consumption and Aerobic Activity(Education)**"
   ]
  },
  {
   "cell_type": "code",
   "execution_count": 76,
   "metadata": {},
   "outputs": [
    {
     "data": {
      "image/png": "[encoded data removed]",
      "text/plain": [
       "<matplotlib.figure.Figure at 0x7f432498d3c8>"
      ]
     },
     "metadata": {},
     "output_type": "display_data"
    }
   ],
   "source": [
    "# data to plot\n",
    "n_groups = 4\n",
    "vegetable_values = list(avg_veg_education.values())\n",
    "aerobic_values = list(avg_aerobic_education.values())\n",
    " \n",
    "# create plot\n",
    "fig, ax = plt.subplots()\n",
    "index = np.arange(n_groups)\n",
    "bar_width = 0.20\n",
    "opacity = 0.8\n",
    " \n",
    "rects1 = plt.bar(index, vegetable_values, bar_width,\n",
    "                 alpha=opacity,\n",
    "                 color='r',\n",
    "                 label='< 1 Veg Per Day')\n",
    " \n",
    "rects2 = plt.bar(index + bar_width, aerobic_values, bar_width,\n",
    "                 alpha=opacity,\n",
    "                 color='y',\n",
    "                 label='Aerobic Activity')\n",
    "\n",
    "fig.set_size_inches(18.5, 10.5)\n",
    "\n",
    "plt.xlabel('Education Categories')\n",
    "# plt.ylabel('% consuming < 1 Veg per day and % performing vigerous aerobic activity')\n",
    "plt.title('Comparision Between Vegetable Consumption and Aerobic Activity in various Education Categories')\n",
    "plt.xticks(index + bar_width, list(avg_veg_education.keys()))\n",
    "plt.legend()\n",
    " \n",
    "# plt.tight_layout()\n",
    "plt.grid(True)\n",
    "plt.savefig('images/exploration_aerobic_malnutrition.pdf', \n",
    "            bbox_inches='tight')\n",
    "plt.show()\n",
    "fig.clear()"
   ]
  },
  {
   "cell_type": "code",
   "execution_count": null,
   "metadata": {},
   "outputs": [],
   "source": []
  }
 ],
 "metadata": {
  "kernelspec": {
   "display_name": "Python 3",
   "language": "python",
   "name": "python3"
  },
  "language_info": {
   "codemirror_mode": {
    "name": "ipython",
    "version": 3
   },
   "file_extension": ".py",
   "mimetype": "text/x-python",
   "name": "python",
   "nbconvert_exporter": "python",
   "pygments_lexer": "ipython3",
   "version": "3.6.3"
  }
 },
 "nbformat": 4,
 "nbformat_minor": 2
}
